{
 "cells": [
  {
   "cell_type": "markdown",
   "id": "62b217e4",
   "metadata": {},
   "source": [
    "# Perceptron\n",
    "\n",
    "\n",
    "https://en.wikipedia.org/wiki/Perceptron\n",
    "\n",
    "In this notebook, we create a perceptron which is going to help us classify whether an image is a cat or not. Perceptrons cannot be trained to recognize multiple classes since they are only capable of linear classification.\n",
    "\n",
    "This uses logistic regression (binary output) instead of linear regression (continuous output).\n",
    "\n",
    "We don't use backprop in a single perceptron, it is only used for multilayer perceptrons."
   ]
  },
  {
   "cell_type": "code",
   "execution_count": 1,
   "id": "70fcb0de",
   "metadata": {},
   "outputs": [],
   "source": [
    "import numpy as np\n",
    "import h5py"
   ]
  },
  {
   "cell_type": "markdown",
   "id": "b271555d",
   "metadata": {},
   "source": [
    "### Import train dataset"
   ]
  },
  {
   "cell_type": "code",
   "execution_count": 2,
   "id": "631b67b0",
   "metadata": {},
   "outputs": [
    {
     "data": {
      "text/plain": [
       "<KeysViewHDF5 ['list_classes', 'train_set_x', 'train_set_y']>"
      ]
     },
     "execution_count": 2,
     "metadata": {},
     "output_type": "execute_result"
    }
   ],
   "source": [
    "train_dataset = h5py.File('datasets/train_catvnoncat.h5', 'r')\n",
    "train_dataset.keys()"
   ]
  },
  {
   "cell_type": "code",
   "execution_count": 3,
   "id": "0a6508df",
   "metadata": {},
   "outputs": [
    {
     "data": {
      "text/plain": [
       "array([b'non-cat', b'cat'], dtype='|S7')"
      ]
     },
     "execution_count": 3,
     "metadata": {},
     "output_type": "execute_result"
    }
   ],
   "source": [
    "classes = np.array(train_dataset['list_classes'][:])\n",
    "classes"
   ]
  },
  {
   "cell_type": "code",
   "execution_count": 4,
   "id": "9e6e9f80",
   "metadata": {},
   "outputs": [],
   "source": [
    "train_set_x_orig = np.array(train_dataset['train_set_x'][:])\n",
    "train_set_y_orig = np.array(train_dataset['train_set_y'][:])"
   ]
  },
  {
   "cell_type": "markdown",
   "id": "2532e243",
   "metadata": {},
   "source": [
    "### Import test dataset"
   ]
  },
  {
   "cell_type": "code",
   "execution_count": 5,
   "id": "7a809c2d",
   "metadata": {},
   "outputs": [
    {
     "data": {
      "text/plain": [
       "<KeysViewHDF5 ['list_classes', 'test_set_x', 'test_set_y']>"
      ]
     },
     "execution_count": 5,
     "metadata": {},
     "output_type": "execute_result"
    }
   ],
   "source": [
    "test_dataset = h5py.File('datasets/test_catvnoncat.h5', 'r')\n",
    "test_dataset.keys()"
   ]
  },
  {
   "cell_type": "code",
   "execution_count": 6,
   "id": "426aea99",
   "metadata": {},
   "outputs": [],
   "source": [
    "test_set_x_orig = np.array(test_dataset['test_set_x'][:])\n",
    "test_set_y_orig = np.array(test_dataset['test_set_y'][:])"
   ]
  },
  {
   "cell_type": "markdown",
   "id": "45e40022",
   "metadata": {},
   "source": [
    "### Reshape output labels\n",
    "\n",
    "Change label shapes from (50,) to (1,50)"
   ]
  },
  {
   "cell_type": "code",
   "execution_count": 7,
   "id": "24917049",
   "metadata": {},
   "outputs": [],
   "source": [
    "train_set_y = train_set_y_orig.reshape((1, train_set_y_orig.shape[0]))\n",
    "test_set_y = test_set_y_orig.reshape((1, test_set_y_orig.shape[0]))"
   ]
  },
  {
   "cell_type": "markdown",
   "id": "df8e1223",
   "metadata": {},
   "source": [
    "### Sample image and label"
   ]
  },
  {
   "cell_type": "code",
   "execution_count": 8,
   "id": "915fad2c",
   "metadata": {},
   "outputs": [
    {
     "name": "stdout",
     "output_type": "stream",
     "text": [
      "Prediction: [0]\n"
     ]
    },
    {
     "data": {
      "image/png": "[encoded data removed]",
      "text/plain": [
       "<Figure size 432x288 with 1 Axes>"
      ]
     },
     "metadata": {
      "needs_background": "light"
     },
     "output_type": "display_data"
    }
   ],
   "source": [
    "import matplotlib.pyplot as plt\n",
    "plt.imshow(train_set_x_orig[23])\n",
    "print('Prediction: ' + str(train_set_y[:,23]))"
   ]
  },
  {
   "cell_type": "markdown",
   "id": "befbf688",
   "metadata": {},
   "source": [
    "### Extract dimensions"
   ]
  },
  {
   "cell_type": "code",
   "execution_count": 9,
   "id": "14ca5942",
   "metadata": {},
   "outputs": [],
   "source": [
    "m_train = train_set_x_orig.shape[0]\n",
    "m_test = test_set_x_orig.shape[0]\n",
    "num_px = test_set_x_orig.shape[1]"
   ]
  },
  {
   "cell_type": "markdown",
   "id": "7ff93269",
   "metadata": {},
   "source": [
    "### Reshape input images\n",
    "\n",
    "Convert images from (m_train, num_px, num_px, 3) to (num_px * num_px * 3, m_train).\n",
    "\n",
    "This can be done using the trick below. We take the last dimension and put it in the first place. Then -1 automatically squishes all other dimensions after it. Lastly, we need to transpose since the pixels dimension comes before the m_train dimension."
   ]
  },
  {
   "cell_type": "code",
   "execution_count": 10,
   "id": "299bfa72",
   "metadata": {},
   "outputs": [
    {
     "name": "stdout",
     "output_type": "stream",
     "text": [
      "(209, 64, 64, 3)\n",
      "(12288, 209)\n"
     ]
    }
   ],
   "source": [
    "train_set_x_flatten = train_set_x_orig.reshape(train_set_x_orig.shape[0], -1).T\n",
    "test_set_x_flatten = test_set_x_orig.reshape(test_set_x_orig.shape[0], -1).T\n",
    "print(train_set_x_orig.shape)\n",
    "print(train_set_x_flatten.shape)"
   ]
  },
  {
   "cell_type": "markdown",
   "id": "bbf510e7",
   "metadata": {},
   "source": [
    "### Standardize dataset\n",
    "\n",
    "Divide the entire dataset by 255."
   ]
  },
  {
   "cell_type": "code",
   "execution_count": 11,
   "id": "b20629aa",
   "metadata": {},
   "outputs": [],
   "source": [
    "train_set_x = train_set_x_flatten / 255\n",
    "test_set_x = test_set_x_flatten / 255"
   ]
  },
  {
   "cell_type": "markdown",
   "id": "bcddea38",
   "metadata": {},
   "source": [
    "### Activation function"
   ]
  },
  {
   "cell_type": "code",
   "execution_count": 12,
   "id": "fd743857",
   "metadata": {},
   "outputs": [],
   "source": [
    "def activation_function(z):\n",
    "    # Sigmoid\n",
    "    s = 1 / (1+np.exp(-z))\n",
    "    return s"
   ]
  },
  {
   "cell_type": "markdown",
   "id": "ca997685",
   "metadata": {},
   "source": [
    "### Initialize parameters"
   ]
  },
  {
   "cell_type": "code",
   "execution_count": 13,
   "id": "795d3ae0",
   "metadata": {},
   "outputs": [],
   "source": [
    "def weights_and_bias(dim):\n",
    "    w = np.zeros((dim,1))\n",
    "    b = 0.0\n",
    "    return w,b"
   ]
  },
  {
   "cell_type": "markdown",
   "id": "4ad9de26",
   "metadata": {},
   "source": [
    "### Forward and backward propagation\n",
    "\n",
    "We pass the weights and bias as parameters because we don't want to access them as global variables."
   ]
  },
  {
   "cell_type": "code",
   "execution_count": 14,
   "id": "39862365",
   "metadata": {},
   "outputs": [],
   "source": [
    "def propagate(w, b, X, Y):\n",
    "    # X.shape = (image_date, no_of_samples)\n",
    "    # Y.shape = (1, no_of_samples)\n",
    "    \n",
    "    # Forward propagation\n",
    "    m = X.shape[1]\n",
    "    Z = np.dot(w.T, X) + b\n",
    "    A = activation_function(Z)\n",
    "    \n",
    "    eps = 0.000001\n",
    "    \n",
    "    # Store cost so that we can draw a graph later on.\n",
    "    cost = (-1/m) * ((np.dot(np.log(A+eps), Y.T)) + np.dot(np.log(1-A+eps), (1-Y).T))\n",
    "    \n",
    "    # Backward propagation\n",
    "    dw = (1/m) * np.dot(X, (A-Y).T)\n",
    "    db = (1/m) * np.sum(A-Y)\n",
    "    cost = np.squeeze(np.array(cost))\n",
    "    \n",
    "    return dw, db, cost"
   ]
  },
  {
   "cell_type": "markdown",
   "id": "a3695390",
   "metadata": {},
   "source": [
    "### Gradient descent"
   ]
  },
  {
   "cell_type": "code",
   "execution_count": 15,
   "id": "fc10fb3f",
   "metadata": {},
   "outputs": [],
   "source": [
    "import copy\n",
    "\n",
    "def optimize(w, b, X, Y, num_iterations=100, learning_rate=0.005):\n",
    "    w = copy.deepcopy(w)\n",
    "    b = copy.deepcopy(b)\n",
    "    \n",
    "    costs = []\n",
    "    \n",
    "    for i in range(num_iterations): # Number of iterations\n",
    "        dw, db, cost = propagate(w, b, X, Y)\n",
    "        w = w - learning_rate * dw\n",
    "        b = b - learning_rate * db\n",
    "        costs.append(cost)\n",
    "        #print('Cost after iteration %i: %f' % (i, cost))\n",
    "    \n",
    "    return w, b, dw, db, costs        "
   ]
  },
  {
   "cell_type": "markdown",
   "id": "44b42046",
   "metadata": {},
   "source": [
    "### Predict"
   ]
  },
  {
   "cell_type": "code",
   "execution_count": 16,
   "id": "65aeb546",
   "metadata": {},
   "outputs": [],
   "source": [
    "def predict(w, b, X):\n",
    "    m = X.shape[1]\n",
    "    Y = np.zeros((1,m))\n",
    "    w = w.reshape((X.shape[0], 1))   # TODO: why?\n",
    "    A = activation_function(np.dot(w.T, X) + b)\n",
    "    \n",
    "    for i in range(A.shape[1]): # m\n",
    "        if A[0, i] > 0.5: Y[0, i] = 1\n",
    "        else: Y[0, i] = 0\n",
    "    \n",
    "    return Y    "
   ]
  },
  {
   "cell_type": "markdown",
   "id": "beb66250",
   "metadata": {},
   "source": [
    "### Model"
   ]
  },
  {
   "cell_type": "code",
   "execution_count": 17,
   "id": "2a4bfac2",
   "metadata": {},
   "outputs": [],
   "source": [
    "def model(X_train, Y_train, X_test, Y_test, num_iterations=100, learning_rate=0.005):\n",
    "    w, b = weights_and_bias(X_train.shape[0])\n",
    "    \n",
    "    w, b, dw, db, costs = optimize(w, b, X_train, Y_train, num_iterations, learning_rate)\n",
    "    \n",
    "    Y_train_preds = predict(w, b, X_train)\n",
    "    Y_test_preds = predict(w, b, X_test)\n",
    "    \n",
    "    print('Train accuracy: {} %'.format(100 - np.mean(np.abs(Y_train_preds - Y_train)) * 100))\n",
    "    print('Test accuracy: {} %'.format(100 - np.mean(np.abs(Y_test_preds - Y_test)) * 100))\n",
    "    \n",
    "    d = {'costs': costs,\n",
    "         'Y_train_preds' : Y_train_preds,\n",
    "         'Y_test_preds': Y_test_preds,\n",
    "         'w' : w,\n",
    "         'b' : b,\n",
    "         'learning_rate' : learning_rate,\n",
    "         'num_iterations': num_iterations}\n",
    "    \n",
    "    return d"
   ]
  },
  {
   "cell_type": "code",
   "execution_count": 18,
   "id": "0590f3e4",
   "metadata": {},
   "outputs": [
    {
     "name": "stdout",
     "output_type": "stream",
     "text": [
      "Train accuracy: 96.65071770334929 %\n",
      "Test accuracy: 72.0 %\n"
     ]
    }
   ],
   "source": [
    "logistic_regression_model = model(train_set_x, train_set_y, test_set_x, test_set_y, num_iterations=1000, learning_rate=0.005)"
   ]
  },
  {
   "cell_type": "markdown",
   "id": "e4c801dc",
   "metadata": {},
   "source": [
    "### Cost function plot"
   ]
  },
  {
   "cell_type": "code",
   "execution_count": 19,
   "id": "6dba831c",
   "metadata": {},
   "outputs": [
    {
     "data": {
      "image/png": "[encoded data removed]",
      "text/plain": [
       "<Figure size 432x288 with 1 Axes>"
      ]
     },
     "metadata": {
      "needs_background": "light"
     },
     "output_type": "display_data"
    }
   ],
   "source": [
    "costs = np.squeeze(logistic_regression_model['costs'])\n",
    "plt.plot(costs)\n",
    "plt.ylabel('cost')\n",
    "plt.xlabel('iterations')\n",
    "plt.title('Learning rate = ' + str(logistic_regression_model['learning_rate']))\n",
    "plt.show()"
   ]
  },
  {
   "cell_type": "markdown",
   "id": "379e03fe",
   "metadata": {},
   "source": [
    "### Choice of learning rate"
   ]
  },
  {
   "cell_type": "code",
   "execution_count": 20,
   "id": "05d92cb5",
   "metadata": {},
   "outputs": [
    {
     "name": "stdout",
     "output_type": "stream",
     "text": [
      "Training model with learning rate: 0.1\n",
      "Train accuracy: 100.0 %\n",
      "Test accuracy: 70.0 %\n",
      "---\n",
      "Training model with learning rate: 0.01\n",
      "Train accuracy: 99.52153110047847 %\n",
      "Test accuracy: 68.0 %\n",
      "---\n",
      "Training model with learning rate: 0.001\n",
      "Train accuracy: 88.99521531100478 %\n",
      "Test accuracy: 64.0 %\n",
      "---\n",
      "Training model with learning rate: 0.0001\n",
      "Train accuracy: 68.42105263157895 %\n",
      "Test accuracy: 36.0 %\n",
      "---\n",
      "Training model with learning rate: 1e-05\n",
      "Train accuracy: 65.55023923444976 %\n",
      "Test accuracy: 34.0 %\n",
      "---\n"
     ]
    },
    {
     "data": {
      "image/png": "[encoded data removed]",
      "text/plain": [
       "<Figure size 432x288 with 1 Axes>"
      ]
     },
     "metadata": {
      "needs_background": "light"
     },
     "output_type": "display_data"
    }
   ],
   "source": [
    "learning_rates = [0.1, 0.01, 0.001, 0.0001, 0.00001]\n",
    "models = {}\n",
    "\n",
    "for lr in learning_rates:\n",
    "    print ('Training model with learning rate: ' + str(lr))\n",
    "    models[str(lr)] = model(train_set_x, train_set_y, test_set_x, test_set_y, num_iterations=1500, learning_rate=lr)\n",
    "    print('---')\n",
    "\n",
    "for lr in learning_rates:\n",
    "    plt.plot(np.squeeze(models[str(lr)]['costs']), label=str(models[str(lr)]['learning_rate']))\n",
    "\n",
    "plt.ylabel('cost')\n",
    "plt.xlabel('iterations')\n",
    "\n",
    "legend = plt.legend(loc='upper center', shadow=True)\n",
    "frame = legend.get_frame()\n",
    "frame.set_facecolor('0.90')\n",
    "plt.show()"
   ]
  }
 ],
 "metadata": {
  "kernelspec": {
   "display_name": "Python 3 (ipykernel)",
   "language": "python",
   "name": "python3"
  },
  "language_info": {
   "codemirror_mode": {
    "name": "ipython",
    "version": 3
   },
   "file_extension": ".py",
   "mimetype": "text/x-python",
   "name": "python",
   "nbconvert_exporter": "python",
   "pygments_lexer": "ipython3",
   "version": "3.8.5"
  }
 },
 "nbformat": 4,
 "nbformat_minor": 5
}
